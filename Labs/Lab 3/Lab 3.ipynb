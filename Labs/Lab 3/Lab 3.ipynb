{
 "cells": [
  {
   "cell_type": "markdown",
   "source": [
    "# Lab Three\n",
    "---\n",
    "\n",
    "Ok for this lab we're going to reiterate a lot of the things that we went over in class.\n",
    "\n",
    "Our Goals are:\n",
    "- Understanding Variable Types\n",
    "- Defining Variables\n",
    "- Using Conditionals\n",
    "- Using Loops\n",
    "- Creating Objects\n",
    "- Writing a function\n"
   ],
   "metadata": {}
  },
  {
   "cell_type": "markdown",
   "source": [
    "## What's the difference between Null and undefined?"
   ],
   "metadata": {}
  },
  {
   "cell_type": "markdown",
   "source": [
    "## List the 3 Variable Types and Use Them!"
   ],
   "metadata": {}
  },
  {
   "cell_type": "code",
   "execution_count": 1,
   "source": [
    "let num = 1;\n",
    "var boolean = true;\n",
    "const string = \"I love pie\";"
   ],
   "outputs": [],
   "metadata": {}
  },
  {
   "cell_type": "markdown",
   "source": [
    "## Use an If/Else If/Else Statement and a Switch Case statement"
   ],
   "metadata": {}
  },
  {
   "cell_type": "code",
   "execution_count": 2,
   "source": [
    "var fun = 2;\n",
    "if(fun == 2)\n",
    "{\n",
    "    console.log(\"this is the number!\");\n",
    "}\n",
    "else{\n",
    "    console.log(\"this is NOT the number\");\n",
    "}\n",
    "var garbage = \"cups\";\n",
    "switch(garbage)\n",
    "{\n",
    "    case \"cups\":\n",
    "        console.log(\"You have a cup in the trash\");\n",
    "        break;\n",
    "    case \"wine\":\n",
    "        console.log(\"You have a bunch of wine in the trash, might be something you wanna work on\");\n",
    "        break;\n",
    "    default:\n",
    "        console.log(\"Maybe the door is empty?\");\n",
    "        break;\n",
    "}"
   ],
   "outputs": [
    {
     "output_type": "stream",
     "name": "stdout",
     "text": [
      "this is the number!\n",
      "You have a cup in the trash\n"
     ]
    }
   ],
   "metadata": {}
  },
  {
   "cell_type": "markdown",
   "source": [
    "## Use a For and a While Loop"
   ],
   "metadata": {}
  },
  {
   "cell_type": "code",
   "execution_count": 5,
   "source": [
    "for(var i = 0; i<10; i++)\n",
    "{\n",
    "    console.log(i);\n",
    "}\n",
    "var list = [1,2,3,4,5,6]\n",
    "var x = 5;\n",
    "while(x>0)\n",
    "{\n",
    "    console.log(list[x]);\n",
    "    x--;\n",
    "}"
   ],
   "outputs": [
    {
     "output_type": "stream",
     "name": "stdout",
     "text": [
      "0\n",
      "1\n",
      "2\n",
      "3\n",
      "4\n",
      "5\n",
      "6\n",
      "7\n",
      "8\n",
      "9\n",
      "6\n",
      "5\n",
      "4\n",
      "3\n",
      "2\n"
     ]
    },
    {
     "output_type": "execute_result",
     "data": {
      "text/plain": [
       "1"
      ]
     },
     "metadata": {},
     "execution_count": 5
    }
   ],
   "metadata": {}
  },
  {
   "cell_type": "markdown",
   "source": [
    "## Make an object!"
   ],
   "metadata": {}
  },
  {
   "cell_type": "code",
   "execution_count": 1,
   "source": [
    "const chad ={\n",
    "    firstName: \"Chad\",\n",
    "    LastName: \"Brosef\",\n",
    "    age: 22,\n",
    "    doucheyness: 10\n",
    "\n",
    "};\n",
    "console.log(chad);"
   ],
   "outputs": [
    {
     "output_type": "stream",
     "name": "stdout",
     "text": [
      "{ firstName: 'Chad', LastName: 'Brosef', age: 22, doucheyness: 10 }\n"
     ]
    }
   ],
   "metadata": {}
  },
  {
   "cell_type": "markdown",
   "source": [
    "## Make a function, It can do anything!"
   ],
   "metadata": {}
  },
  {
   "cell_type": "code",
   "execution_count": 2,
   "source": [
    "function hiToday(name){\n",
    "    console.log(`Hi today! its nice to see you ${name}`);\n",
    "}\n",
    "hiToday(\"chad\");"
   ],
   "outputs": [
    {
     "output_type": "stream",
     "name": "stdout",
     "text": [
      "Hi today! its nice to see you chad\n"
     ]
    }
   ],
   "metadata": {}
  },
  {
   "cell_type": "markdown",
   "source": [
    "## Optional: Checkout HackerRank and try a problem in Javascript"
   ],
   "metadata": {}
  },
  {
   "cell_type": "code",
   "execution_count": null,
   "source": [],
   "outputs": [],
   "metadata": {}
  }
 ],
 "metadata": {
  "orig_nbformat": 4,
  "language_info": {
   "name": "javascript",
   "version": "16.9.1",
   "mimetype": "application/javascript",
   "file_extension": ".js"
  },
  "kernelspec": {
   "name": "javascript",
   "display_name": "Javascript (Node.js)",
   "language": "javascript"
  },
  "interpreter": {
   "hash": "064c06a7a03d0d48dc16fd8f16ee4935e808acbd1d91eb05e64ebb46de5ef026"
  }
 },
 "nbformat": 4,
 "nbformat_minor": 2
}