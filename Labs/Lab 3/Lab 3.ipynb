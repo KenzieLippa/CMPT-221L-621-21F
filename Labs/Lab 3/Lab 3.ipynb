{
 "cells": [
  {
   "cell_type": "markdown",
   "source": [
    "# Lab Three\n",
    "---\n",
    "\n",
    "Ok for this lab we're going to reiterate a lot of the things that we went over in class.\n",
    "\n",
    "Our Goals are:\n",
    "- Understanding Variable Types\n",
    "- Defining Variables\n",
    "- Using Conditionals\n",
    "- Using Loops\n",
    "- Creating Objects\n",
    "- Writing a function\n"
   ],
   "metadata": {}
  },
  {
   "cell_type": "markdown",
   "source": [
    "## What's the difference between Null and undefined?"
   ],
   "metadata": {}
  },
  {
   "cell_type": "markdown",
   "source": [
    "## List the 3 Variable Types and Use Them!"
   ],
   "metadata": {}
  },
  {
   "cell_type": "code",
   "execution_count": 1,
   "source": [
    "let num = 1;\n",
    "var boolean = true;\n",
    "const string = \"I love pie\";"
   ],
   "outputs": [],
   "metadata": {}
  },
  {
   "cell_type": "markdown",
   "source": [
    "## Use an If/Else If/Else Statement and a Switch Case statement"
   ],
   "metadata": {}
  },
  {
   "cell_type": "code",
   "execution_count": 5,
   "source": [
    "if(num == 2)\n",
    "{\n",
    "    console.log(\"this is the number!\");\n",
    "}\n",
    "else{\n",
    "    console.log(\"this is NOT the number\");\n",
    "}\n",
    "var garbage = \"cups\";\n",
    "switch(garbage)\n",
    "{\n",
    "    case \"cups\":\n",
    "        console.log(\"You have a cup in the trash\");\n",
    "        break;\n",
    "    case \"wine\":\n",
    "        console.log(\"You have a bunch of wine in the trash, might be something you wanna work on\");\n",
    "        break;\n",
    "    default:\n",
    "        console.log(\"Maybe the door is empty?\");\n",
    "        break;\n",
    "}"
   ],
   "outputs": [
    {
     "output_type": "error",
     "ename": "SyntaxError",
     "evalue": "Identifier 'garbage' has already been declared",
     "traceback": [
      "evalmachine.<anonymous>:1",
      "if(num == 2)",
      "^",
      "",
      "SyntaxError: Identifier 'garbage' has already been declared",
      "    at evalmachine.<anonymous>:1:1",
      "    at Script.runInThisContext (node:vm:129:12)",
      "    at Object.runInThisContext (node:vm:305:38)",
      "    at run ([eval]:1054:15)",
      "    at onRunRequest ([eval]:888:18)",
      "    at onMessage ([eval]:848:13)",
      "    at process.emit (node:events:394:28)",
      "    at emit (node:internal/child_process:917:12)",
      "    at processTicksAndRejections (node:internal/process/task_queues:84:21)"
     ]
    }
   ],
   "metadata": {}
  },
  {
   "cell_type": "markdown",
   "source": [
    "## Use a For and a While Loop"
   ],
   "metadata": {}
  },
  {
   "cell_type": "code",
   "execution_count": null,
   "source": [
    "for(var i = 0; i<10; i++)\n",
    "{\n",
    "    console.log(i);\n",
    "}\n",
    "var list = [1,2,3,4,5,6]\n",
    "var x = 6;\n",
    "while(x>0)\n",
    "{\n",
    "    console.log(list[x]);\n",
    "    x--;\n",
    "}"
   ],
   "outputs": [],
   "metadata": {}
  },
  {
   "cell_type": "markdown",
   "source": [
    "## Make an object!"
   ],
   "metadata": {}
  },
  {
   "cell_type": "code",
   "execution_count": null,
   "source": [
    "const chad ={\n",
    "    firstName = \"Chad\",\n",
    "    LastName = \"Brosef\",\n",
    "    age: 22,\n",
    "    doucheyness = 10\n",
    "\n",
    "};"
   ],
   "outputs": [],
   "metadata": {}
  },
  {
   "cell_type": "markdown",
   "source": [
    "## Make a function, It can do anything!"
   ],
   "metadata": {}
  },
  {
   "cell_type": "code",
   "execution_count": null,
   "source": [
    "function hiToday(name){\n",
    "    console.log(`Hi today! its nice to see you ${name}`);\n",
    "}\n",
    "hiToday(\"chad\");"
   ],
   "outputs": [],
   "metadata": {}
  },
  {
   "cell_type": "markdown",
   "source": [
    "## Optional: Checkout HackerRank and try a problem in Javascript"
   ],
   "metadata": {}
  },
  {
   "cell_type": "code",
   "execution_count": null,
   "source": [],
   "outputs": [],
   "metadata": {}
  }
 ],
 "metadata": {
  "orig_nbformat": 4,
  "language_info": {
   "name": "javascript",
   "version": "16.9.1",
   "mimetype": "application/javascript",
   "file_extension": ".js"
  },
  "kernelspec": {
   "name": "javascript",
   "display_name": "Javascript (Node.js)",
   "language": "javascript"
  },
  "interpreter": {
   "hash": "064c06a7a03d0d48dc16fd8f16ee4935e808acbd1d91eb05e64ebb46de5ef026"
  }
 },
 "nbformat": 4,
 "nbformat_minor": 2
}